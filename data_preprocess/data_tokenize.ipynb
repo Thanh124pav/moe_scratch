{
 "cells": [
  {
   "cell_type": "code",
   "execution_count": 1,
   "id": "52ec99bd",
   "metadata": {},
   "outputs": [
    {
     "name": "stderr",
     "output_type": "stream",
     "text": [
      "d:\\Anaconda3\\Lib\\site-packages\\pandas\\core\\arrays\\masked.py:60: UserWarning: Pandas requires version '1.3.6' or newer of 'bottleneck' (version '1.3.5' currently installed).\n",
      "  from pandas.core import (\n"
     ]
    }
   ],
   "source": [
    "from datasets import Dataset\n",
    "from transformers import AutoTokenizer, AutoModelForSeq2SeqLM, DataCollatorForSeq2Seq, Seq2SeqTrainer, TrainingArguments, Seq2SeqTrainingArguments\n",
    "from tqdm.notebook import tqdm\n",
    "from torch.utils.data import DataLoader\n",
    "import torch\n",
    "import torch.nn as nn\n",
    "import torch.nn.functional as F\n",
    "from torch.nn import init\n",
    "import os\n",
    "import re"
   ]
  },
  {
   "cell_type": "code",
   "execution_count": 2,
   "id": "67c40864",
   "metadata": {},
   "outputs": [],
   "source": [
    "def normalize_text(paragraph):\n",
    "    res = []\n",
    "    for text in paragraph:\n",
    "        # Loại bỏ ký tự tab, xuống dòng\n",
    "        text = re.sub(r'[\\t\\n]', ' ', text)\n",
    "        # Loại bỏ các cặp {}, [], ()\n",
    "        text = re.sub(r'[\\{\\}\\[\\]\\(\\)]', ' ', text)\n",
    "        # Loại bỏ teen code/emoticon kiểu :D, :)), :v, :3, :P, :|, :((, :)), :>, :<, :o, :O, :x, :X, :d, :p, :V, ...\n",
    "        text = re.sub(r'(:\\)|:\\(|:D|:P|:p|:v|:V|:3|:o|:O|:x|:X|:\\||:>|:<|:\\)+|:\\(+)', ' ', text)\n",
    "        # Loại bỏ 2 dấu câu đứng cạnh nhau (giữ lại 1 dấu)\n",
    "        text = re.sub(r'([.,!?;:\\\"\\']){2,}', r'\\1', text)\n",
    "        # Loại bỏ các dấu câu mà giữa chúng là khoảng trắng (vd: \"; .\", \", !\")\n",
    "        text = re.sub(r'([.,!?;:\\\"\\'])\\s+([.,!?;:\\\"\\'])', r'\\2', text)\n",
    "        # Loại bỏ ký tự không phải chữ cái tiếng Việt, số, dấu câu cơ bản, khoảng trắng\n",
    "        text = re.sub(r\"[^A-Za-zÀ-ỹà-ỹ0-9.,!?;:'\\\" \\-]\", '', text)\n",
    "        # Chuẩn hóa khoảng trắng\n",
    "        text = re.sub(r'\\s+', ' ', text).strip()\n",
    "        res.append(text)\n",
    "    return res\n"
   ]
  },
  {
   "cell_type": "code",
   "execution_count": 3,
   "id": "664748d3",
   "metadata": {},
   "outputs": [],
   "source": [
    "tokenizer = AutoTokenizer.from_pretrained(\"VietAI/vit5-base\")"
   ]
  },
  {
   "cell_type": "code",
   "execution_count": 4,
   "id": "7aa276b9",
   "metadata": {},
   "outputs": [],
   "source": [
    "def preprocess_function(examples):\n",
    "    inputs = normalize_text(examples[\"inputs\"])\n",
    "    labels = normalize_text(examples[\"labels\"])\n",
    "    model_inputs = tokenizer(\n",
    "        inputs, max_length=1024, truncation=True, padding=\"max_length\"\n",
    "    )\n",
    "\n",
    "    with tokenizer.as_target_tokenizer():\n",
    "        labels = tokenizer(\n",
    "            labels, max_length=1024, truncation=True, padding=\"max_length\"\n",
    "        )\n",
    "        # Đổi tất cả pad_token_id thành -100\n",
    "    labels_ids = [\n",
    "        [(token if token != tokenizer.pad_token_id else -100) for token in seq]\n",
    "        for seq in labels[\"input_ids\"]\n",
    "    ]\n",
    "    model_inputs['labels'] = labels_ids\n",
    "    model_inputs['input_ids'] = model_inputs['input_ids']\n",
    "    return model_inputs"
   ]
  },
  {
   "cell_type": "code",
   "execution_count": 5,
   "id": "579eca56",
   "metadata": {},
   "outputs": [],
   "source": [
    "task1 = 'D:/Downloads/DS_AI/VDT/MoE/moe/data/raw/Wiki'\n",
    "task2 = 'D:/Downloads/DS_AI/VDT/MoE/moe/data/raw/VNews'"
   ]
  },
  {
   "cell_type": "code",
   "execution_count": 8,
   "id": "132ffb73",
   "metadata": {},
   "outputs": [],
   "source": [
    "def create_tokenized_dataset(file_name, Wiki = True, Vnews = True):\n",
    "    input_lines = []\n",
    "    label_lines = []\n",
    "    if Wiki:\n",
    "        with open(f'{task1}/{file_name}', encoding='utf-8') as file: \n",
    "            for i, line in enumerate(file):\n",
    "                if i == 0:\n",
    "                    continue \n",
    "                line = line.strip().split('\\t')\n",
    "                input_lines.append(line[1])\n",
    "                label_lines.append(line[2])\n",
    "    if Vnews:\n",
    "        with open(f'{task2}/{file_name}', encoding='utf-8') as file: \n",
    "            for i, line in enumerate(file):\n",
    "                if i == 0:\n",
    "                    continue \n",
    "                line = line.strip().split('\\t')\n",
    "                input_lines.append(line[3])\n",
    "                label_lines.append(line[2]) \n",
    "    dict_obj = {'inputs': input_lines, 'labels': label_lines}\n",
    "    dataset = Dataset.from_dict(dict_obj)\n",
    "    tokenized_datasets = dataset.map(preprocess_function, batched = True, remove_columns=['inputs'])\n",
    "    return dataset, tokenized_datasets"
   ]
  },
  {
   "cell_type": "markdown",
   "id": "cce8c88f",
   "metadata": {},
   "source": [
    "## Full data, padding left"
   ]
  },
  {
   "cell_type": "code",
   "execution_count": 6,
   "id": "c2ed131b",
   "metadata": {},
   "outputs": [],
   "source": [
    "tokenizer = AutoTokenizer.from_pretrained(\"VietAI/vit5-base\")\n",
    "tokenizer.padding_side = \"left\""
   ]
  },
  {
   "cell_type": "code",
   "execution_count": 9,
   "id": "934cf0e2",
   "metadata": {},
   "outputs": [
    {
     "data": {
      "application/vnd.jupyter.widget-view+json": {
       "model_id": "722ecf7d38e94108acdde262347affd2",
       "version_major": 2,
       "version_minor": 0
      },
      "text/plain": [
       "Map:   0%|          | 0/112841 [00:00<?, ? examples/s]"
      ]
     },
     "metadata": {},
     "output_type": "display_data"
    },
    {
     "name": "stderr",
     "output_type": "stream",
     "text": [
      "d:\\Anaconda3\\Lib\\site-packages\\transformers\\tokenization_utils_base.py:3959: UserWarning: `as_target_tokenizer` is deprecated and will be removed in v5 of Transformers. You can tokenize your labels by using the argument `text_target` of the regular `__call__` method (either in the same call as your input texts if you use the same keyword arguments, or in a separate call.\n",
      "  warnings.warn(\n"
     ]
    },
    {
     "data": {
      "application/vnd.jupyter.widget-view+json": {
       "model_id": "2f91115a567a44ccb25d2046ef500bf7",
       "version_major": 2,
       "version_minor": 0
      },
      "text/plain": [
       "Map:   0%|          | 0/24141 [00:00<?, ? examples/s]"
      ]
     },
     "metadata": {},
     "output_type": "display_data"
    },
    {
     "data": {
      "application/vnd.jupyter.widget-view+json": {
       "model_id": "48a679a3135a4831921db55e7dd2b7eb",
       "version_major": 2,
       "version_minor": 0
      },
      "text/plain": [
       "Map:   0%|          | 0/26414 [00:00<?, ? examples/s]"
      ]
     },
     "metadata": {},
     "output_type": "display_data"
    }
   ],
   "source": [
    "_, train_dataset = create_tokenized_dataset('train.tsv')\n",
    "_, eval_dataset = create_tokenized_dataset('valid.tsv')\n",
    "_, test_dataset = create_tokenized_dataset('test.tsv')"
   ]
  },
  {
   "cell_type": "code",
   "execution_count": 10,
   "id": "d292cc93",
   "metadata": {},
   "outputs": [
    {
     "data": {
      "application/vnd.jupyter.widget-view+json": {
       "model_id": "8464cee3c7954981b70568277b03b186",
       "version_major": 2,
       "version_minor": 0
      },
      "text/plain": [
       "Saving the dataset (0/2 shards):   0%|          | 0/112841 [00:00<?, ? examples/s]"
      ]
     },
     "metadata": {},
     "output_type": "display_data"
    },
    {
     "data": {
      "application/vnd.jupyter.widget-view+json": {
       "model_id": "eba103af2fab46ceb982f8ea4c46ed03",
       "version_major": 2,
       "version_minor": 0
      },
      "text/plain": [
       "Saving the dataset (0/1 shards):   0%|          | 0/24141 [00:00<?, ? examples/s]"
      ]
     },
     "metadata": {},
     "output_type": "display_data"
    },
    {
     "data": {
      "application/vnd.jupyter.widget-view+json": {
       "model_id": "71fafc3e342c450284b56baacac57975",
       "version_major": 2,
       "version_minor": 0
      },
      "text/plain": [
       "Saving the dataset (0/1 shards):   0%|          | 0/26414 [00:00<?, ? examples/s]"
      ]
     },
     "metadata": {},
     "output_type": "display_data"
    }
   ],
   "source": [
    "train_dataset.save_to_disk(r\"D:\\Downloads\\DS_AI\\VDT\\MoE\\moe\\data\\tokenized_left_full\\train\")\n",
    "eval_dataset.save_to_disk(r\"D:\\Downloads\\DS_AI\\VDT\\MoE\\moe\\data\\tokenized_left_full\\eval\")\n",
    "test_dataset.save_to_disk(r\"D:\\Downloads\\DS_AI\\VDT\\MoE\\moe\\data\\tokenized_left_full\\test\")"
   ]
  },
  {
   "cell_type": "code",
   "execution_count": 11,
   "id": "b669129e",
   "metadata": {},
   "outputs": [
    {
     "name": "stdout",
     "output_type": "stream",
     "text": [
      "Số token không phải token đặc biệt: 70.744682 M\n"
     ]
    }
   ],
   "source": [
    "special_token_ids = set([\n",
    "    tokenizer.pad_token_id,\n",
    "    tokenizer.eos_token_id,\n",
    "    tokenizer.bos_token_id if hasattr(tokenizer, \"bos_token_id\") else None,\n",
    "    tokenizer.sep_token_id if hasattr(tokenizer, \"sep_token_id\") else None,\n",
    "    tokenizer.cls_token_id if hasattr(tokenizer, \"cls_token_id\") else None,\n",
    "])\n",
    "special_token_ids = {tid for tid in special_token_ids if tid is not None}\n",
    "\n",
    "count = 0\n",
    "for sample in train_dataset:\n",
    "    for tid in sample['input_ids']:\n",
    "        if tid not in special_token_ids:\n",
    "            count += 1\n",
    "print(f\"Số token không phải token đặc biệt: {count/1e6} M\")\n"
   ]
  },
  {
   "cell_type": "markdown",
   "id": "09f97ae8",
   "metadata": {},
   "source": [
    "## Wiki padding left"
   ]
  },
  {
   "cell_type": "code",
   "execution_count": 10,
   "id": "ed843680",
   "metadata": {},
   "outputs": [],
   "source": [
    "tokenizer = AutoTokenizer.from_pretrained(\"VietAI/vit5-base\")\n",
    "tokenizer.padding_side = \"left\""
   ]
  },
  {
   "cell_type": "code",
   "execution_count": 11,
   "id": "ee0f8f83",
   "metadata": {},
   "outputs": [
    {
     "data": {
      "application/vnd.jupyter.widget-view+json": {
       "model_id": "d1b7e1c5d34d463f8c4503e9e02f2ff1",
       "version_major": 2,
       "version_minor": 0
      },
      "text/plain": [
       "Map:   0%|          | 0/13707 [00:00<?, ? examples/s]"
      ]
     },
     "metadata": {},
     "output_type": "display_data"
    },
    {
     "name": "stderr",
     "output_type": "stream",
     "text": [
      "d:\\Anaconda3\\Lib\\site-packages\\transformers\\tokenization_utils_base.py:3959: UserWarning: `as_target_tokenizer` is deprecated and will be removed in v5 of Transformers. You can tokenize your labels by using the argument `text_target` of the regular `__call__` method (either in the same call as your input texts if you use the same keyword arguments, or in a separate call.\n",
      "  warnings.warn(\n"
     ]
    },
    {
     "data": {
      "application/vnd.jupyter.widget-view+json": {
       "model_id": "d836ed0563c64d25aa99380c8e35b8e4",
       "version_major": 2,
       "version_minor": 0
      },
      "text/plain": [
       "Map:   0%|          | 0/1957 [00:00<?, ? examples/s]"
      ]
     },
     "metadata": {},
     "output_type": "display_data"
    },
    {
     "data": {
      "application/vnd.jupyter.widget-view+json": {
       "model_id": "9f5e4f7586b04608b64173b9029c1757",
       "version_major": 2,
       "version_minor": 0
      },
      "text/plain": [
       "Map:   0%|          | 0/3916 [00:00<?, ? examples/s]"
      ]
     },
     "metadata": {},
     "output_type": "display_data"
    }
   ],
   "source": [
    "_, train_dataset = create_tokenized_dataset('train.tsv', Vnews=False)\n",
    "_, eval_dataset = create_tokenized_dataset('valid.tsv', Vnews=False)\n",
    "_, test_dataset = create_tokenized_dataset('test.tsv', Vnews=False)"
   ]
  },
  {
   "cell_type": "code",
   "execution_count": 16,
   "id": "2675b266",
   "metadata": {},
   "outputs": [
    {
     "data": {
      "application/vnd.jupyter.widget-view+json": {
       "model_id": "340c18b1ab604ca8b55d42fab9da6936",
       "version_major": 2,
       "version_minor": 0
      },
      "text/plain": [
       "Saving the dataset (0/1 shards):   0%|          | 0/13707 [00:00<?, ? examples/s]"
      ]
     },
     "metadata": {},
     "output_type": "display_data"
    },
    {
     "data": {
      "application/vnd.jupyter.widget-view+json": {
       "model_id": "3642bf1365a34c0fbf527d89027c5c2f",
       "version_major": 2,
       "version_minor": 0
      },
      "text/plain": [
       "Saving the dataset (0/1 shards):   0%|          | 0/1957 [00:00<?, ? examples/s]"
      ]
     },
     "metadata": {},
     "output_type": "display_data"
    },
    {
     "data": {
      "application/vnd.jupyter.widget-view+json": {
       "model_id": "4f3b11cd95a645ceba70803db2214cde",
       "version_major": 2,
       "version_minor": 0
      },
      "text/plain": [
       "Saving the dataset (0/1 shards):   0%|          | 0/3916 [00:00<?, ? examples/s]"
      ]
     },
     "metadata": {},
     "output_type": "display_data"
    }
   ],
   "source": [
    "train_dataset.save_to_disk(\"D:/Downloads/DS_AI/VDT/MoE/moe/data/abstract_summarization/tokenized_left_wiki/train\")\n",
    "eval_dataset.save_to_disk(\"D:/Downloads/DS_AI/VDT/MoE/moe/data/abstract_summarization/tokenized_left_wiki/eval\")\n",
    "test_dataset.save_to_disk(\"D:/Downloads/DS_AI/VDT/MoE/moe/data/abstract_summarization/tokenized_left_wiki/test\")"
   ]
  },
  {
   "cell_type": "code",
   "execution_count": 13,
   "id": "95d907ed",
   "metadata": {},
   "outputs": [
    {
     "data": {
      "text/plain": [
       "Dataset({\n",
       "    features: ['labels', 'input_ids', 'attention_mask'],\n",
       "    num_rows: 13707\n",
       "})"
      ]
     },
     "execution_count": 13,
     "metadata": {},
     "output_type": "execute_result"
    }
   ],
   "source": [
    "train_dataset"
   ]
  },
  {
   "cell_type": "markdown",
   "id": "c9a80c05",
   "metadata": {},
   "source": [
    "## Full data, padding right"
   ]
  },
  {
   "cell_type": "code",
   "execution_count": 9,
   "id": "e903950e",
   "metadata": {},
   "outputs": [],
   "source": [
    "tokenizer = AutoTokenizer.from_pretrained(\"VietAI/vit5-base\")\n",
    "tokenizer.padding_side = \"right\""
   ]
  },
  {
   "cell_type": "code",
   "execution_count": 17,
   "id": "d5ef0e89",
   "metadata": {},
   "outputs": [
    {
     "data": {
      "application/vnd.jupyter.widget-view+json": {
       "model_id": "ca92610d472e4a92b952fb4c91b6438b",
       "version_major": 2,
       "version_minor": 0
      },
      "text/plain": [
       "Map:   0%|          | 0/112841 [00:00<?, ? examples/s]"
      ]
     },
     "metadata": {},
     "output_type": "display_data"
    },
    {
     "data": {
      "application/vnd.jupyter.widget-view+json": {
       "model_id": "b1ed88bd660d47c8beaf42cb9e882d6c",
       "version_major": 2,
       "version_minor": 0
      },
      "text/plain": [
       "Map:   0%|          | 0/24141 [00:00<?, ? examples/s]"
      ]
     },
     "metadata": {},
     "output_type": "display_data"
    },
    {
     "data": {
      "application/vnd.jupyter.widget-view+json": {
       "model_id": "e1c5cab78afa405e994cc19bce85931a",
       "version_major": 2,
       "version_minor": 0
      },
      "text/plain": [
       "Map:   0%|          | 0/26414 [00:00<?, ? examples/s]"
      ]
     },
     "metadata": {},
     "output_type": "display_data"
    }
   ],
   "source": [
    "_, train_dataset = create_tokenized_dataset('train.tsv')\n",
    "_, eval_dataset = create_tokenized_dataset('valid.tsv')\n",
    "_, test_dataset = create_tokenized_dataset('test.tsv')"
   ]
  },
  {
   "cell_type": "code",
   "execution_count": 18,
   "id": "a064cfe9",
   "metadata": {},
   "outputs": [
    {
     "data": {
      "application/vnd.jupyter.widget-view+json": {
       "model_id": "c4e13c2d04264357bf3c1ceb948a05cf",
       "version_major": 2,
       "version_minor": 0
      },
      "text/plain": [
       "Saving the dataset (0/2 shards):   0%|          | 0/112841 [00:00<?, ? examples/s]"
      ]
     },
     "metadata": {},
     "output_type": "display_data"
    },
    {
     "data": {
      "application/vnd.jupyter.widget-view+json": {
       "model_id": "cc5280a5ba0a44acb9b73eed95e737c3",
       "version_major": 2,
       "version_minor": 0
      },
      "text/plain": [
       "Saving the dataset (0/1 shards):   0%|          | 0/24141 [00:00<?, ? examples/s]"
      ]
     },
     "metadata": {},
     "output_type": "display_data"
    },
    {
     "data": {
      "application/vnd.jupyter.widget-view+json": {
       "model_id": "ee66bec10c144356b3ef187f6c87c3bc",
       "version_major": 2,
       "version_minor": 0
      },
      "text/plain": [
       "Saving the dataset (0/1 shards):   0%|          | 0/26414 [00:00<?, ? examples/s]"
      ]
     },
     "metadata": {},
     "output_type": "display_data"
    }
   ],
   "source": [
    "train_dataset.save_to_disk(\"D:/Downloads/DS_AI/VDT/MoE/moe/data/abstract_summarization/tokenized_right_full/train\")\n",
    "eval_dataset.save_to_disk(\"D:/Downloads/DS_AI/VDT/MoE/moe/data/abstract_summarization/tokenized_right_full/eval\")\n",
    "test_dataset.save_to_disk(\"D:/Downloads/DS_AI/VDT/MoE/moe/data/abstract_summarization/tokenized_right_full/test\")"
   ]
  },
  {
   "cell_type": "markdown",
   "id": "0a15fa89",
   "metadata": {},
   "source": [
    "## Wiki padding right"
   ]
  },
  {
   "cell_type": "code",
   "execution_count": 30,
   "id": "ac614858",
   "metadata": {},
   "outputs": [],
   "source": [
    "tokenizer = AutoTokenizer.from_pretrained(\"VietAI/vit5-base\")\n",
    "tokenizer.padding_side = \"right\""
   ]
  },
  {
   "cell_type": "code",
   "execution_count": 31,
   "id": "19214338",
   "metadata": {},
   "outputs": [
    {
     "data": {
      "application/vnd.jupyter.widget-view+json": {
       "model_id": "796a3e6d40ca45408b22476d9f5423a0",
       "version_major": 2,
       "version_minor": 0
      },
      "text/plain": [
       "Map:   0%|          | 0/13707 [00:00<?, ? examples/s]"
      ]
     },
     "metadata": {},
     "output_type": "display_data"
    },
    {
     "data": {
      "application/vnd.jupyter.widget-view+json": {
       "model_id": "6ed44ad13ed249b6a95bdec4aed136ff",
       "version_major": 2,
       "version_minor": 0
      },
      "text/plain": [
       "Map:   0%|          | 0/1957 [00:00<?, ? examples/s]"
      ]
     },
     "metadata": {},
     "output_type": "display_data"
    },
    {
     "data": {
      "application/vnd.jupyter.widget-view+json": {
       "model_id": "89c01b40b4764d4c952ffd81c23b35b9",
       "version_major": 2,
       "version_minor": 0
      },
      "text/plain": [
       "Map:   0%|          | 0/3916 [00:00<?, ? examples/s]"
      ]
     },
     "metadata": {},
     "output_type": "display_data"
    }
   ],
   "source": [
    "_, train_dataset = create_tokenized_dataset('train.tsv', Vnews=False)\n",
    "_, eval_dataset = create_tokenized_dataset('valid.tsv', Vnews=False)\n",
    "_, test_dataset = create_tokenized_dataset('test.tsv', Vnews=False)"
   ]
  },
  {
   "cell_type": "code",
   "execution_count": 32,
   "id": "53823d9a",
   "metadata": {},
   "outputs": [
    {
     "data": {
      "application/vnd.jupyter.widget-view+json": {
       "model_id": "d939daf44b424710baf7bd31e838ba9a",
       "version_major": 2,
       "version_minor": 0
      },
      "text/plain": [
       "Saving the dataset (0/1 shards):   0%|          | 0/13707 [00:00<?, ? examples/s]"
      ]
     },
     "metadata": {},
     "output_type": "display_data"
    },
    {
     "data": {
      "application/vnd.jupyter.widget-view+json": {
       "model_id": "bdd1f2ef8b0e45f89229bca38cb7af0a",
       "version_major": 2,
       "version_minor": 0
      },
      "text/plain": [
       "Saving the dataset (0/1 shards):   0%|          | 0/1957 [00:00<?, ? examples/s]"
      ]
     },
     "metadata": {},
     "output_type": "display_data"
    },
    {
     "data": {
      "application/vnd.jupyter.widget-view+json": {
       "model_id": "9e9d621fdc1e48e1b337afcbc0ceb747",
       "version_major": 2,
       "version_minor": 0
      },
      "text/plain": [
       "Saving the dataset (0/1 shards):   0%|          | 0/3916 [00:00<?, ? examples/s]"
      ]
     },
     "metadata": {},
     "output_type": "display_data"
    }
   ],
   "source": [
    "train_dataset.save_to_disk(\"D:/Downloads/DS_AI/VDT/MoE/moe/data/abstract_summarization/tokenized_right_wiki/train\")\n",
    "eval_dataset.save_to_disk(\"D:/Downloads/DS_AI/VDT/MoE/moe/data/abstract_summarization/tokenized_right_wiki/eval\")\n",
    "test_dataset.save_to_disk(\"D:/Downloads/DS_AI/VDT/MoE/moe/data/abstract_summarization/tokenized_right_wiki/test\")"
   ]
  },
  {
   "cell_type": "code",
   "execution_count": 34,
   "id": "8676eb8b",
   "metadata": {},
   "outputs": [
    {
     "data": {
      "text/plain": [
       "1024"
      ]
     },
     "execution_count": 34,
     "metadata": {},
     "output_type": "execute_result"
    }
   ],
   "source": [
    "len(train_dataset[0]['labels'])"
   ]
  },
  {
   "cell_type": "code",
   "execution_count": null,
   "id": "35e8f6ce",
   "metadata": {},
   "outputs": [],
   "source": []
  }
 ],
 "metadata": {
  "kernelspec": {
   "display_name": "base",
   "language": "python",
   "name": "python3"
  },
  "language_info": {
   "codemirror_mode": {
    "name": "ipython",
    "version": 3
   },
   "file_extension": ".py",
   "mimetype": "text/x-python",
   "name": "python",
   "nbconvert_exporter": "python",
   "pygments_lexer": "ipython3",
   "version": "3.11.5"
  }
 },
 "nbformat": 4,
 "nbformat_minor": 5
}
